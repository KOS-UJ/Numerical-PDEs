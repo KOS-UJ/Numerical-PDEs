{
  "nbformat": 4,
  "nbformat_minor": 0,
  "metadata": {
    "colab": {
      "name": "NeumannElliptic.ipynb",
      "private_outputs": true,
      "provenance": []
    },
    "kernelspec": {
      "name": "python3",
      "display_name": "Python 3"
    },
    "language_info": {
      "name": "python"
    }
  },
  "cells": [
    {
      "cell_type": "markdown",
      "metadata": {
        "id": "5lf7SJVYdrBe"
      },
      "source": [
        "## Numeryczne Rozwiązywanie Rónań Różniczkowych Cząstkowych\n",
        "### Uniwersytet Jagielloński 2021\n",
        "Katedra Teorii Optymalizacji i Sterowania UJ\n",
        "\n"
      ]
    },
    {
      "cell_type": "markdown",
      "metadata": {
        "id": "wkwMG227dyKZ"
      },
      "source": [
        "# Metoda różnic skończonych\n",
        "\n",
        "\n",
        "## Laboratorium V\n",
        "### Warunek brzegowy Neumanna\n",
        "\n",
        "$$ u_{xx}  + u_{yy} = 0$$\n",
        "\n",
        "$$ u_{| \\partial{D}} = 0 \\,\\,\\,\\,\\, \\text{for } x = 1 \\text{ and } 0 \\leq y <1$$\n",
        "$$ u_{| \\partial{D}} = 1 \\,\\,\\,\\,\\, \\text{for } y = 1 \\text{ and } 0 \\leq x <1$$\n",
        "\n",
        "$$ \\frac{\\partial u}{\\partial x} = 0 \\,\\,\\,\\,\\, \\text{for } x = 1 \\text{ and } 0 \\leq y <1$$\n",
        "$$ \\frac{\\partial u}{\\partial x} = 0 \\,\\,\\,\\,\\, \\text{for } y = 1 \\text{ and } 0 \\leq x <1$$\n",
        "\n",
        "$$ D = \\{(x, y) \\in R^2 : x, y \\in (0, 1) \\} $$\n",
        "\n",
        "Rozwiązanie dokładne: brak :("
      ]
    },
    {
      "cell_type": "code",
      "metadata": {
        "id": "8gjbWJ3-d2PE"
      },
      "source": [
        "import numpy as np\n",
        "import scipy as sc\n",
        "import scipy.sparse.linalg\n",
        "from mpl_toolkits.mplot3d import Axes3D\n",
        "import matplotlib.pyplot as plt\n",
        "from matplotlib import cm\n",
        "from matplotlib.ticker import LinearLocator, FormatStrFormatter\n",
        "from scipy.sparse import lil_matrix, csr_matrix\n",
        "from typing import Optional\n",
        "import time"
      ],
      "execution_count": null,
      "outputs": []
    },
    {
      "cell_type": "code",
      "metadata": {
        "id": "NWqt8umcd4bj"
      },
      "source": [
        "class SetupElliptic:\n",
        "    def __init__(self, dx: float, dy: Optional[float] = None):\n",
        "        self.x_range = (0.0, 1.0)\n",
        "        self.y_range = (0.0, 1.0)\n",
        "\n",
        "        dy = dy or dx\n",
        "\n",
        "        self.x_num = round((self.x_range[1] - self.x_range[0]) / dx)\n",
        "        self.y_num = round((self.y_range[1] - self.y_range[0]) / dy)\n",
        "        self.X, self.dx = np.linspace(self.x_range[0], self.x_range[1], \n",
        "                                      self.x_num + 1, retstep=True)\n",
        "        self.Y, self.dy = np.linspace(self.y_range[0], self.y_range[1], \n",
        "                                      self.y_num + 1, retstep=True)\n",
        "        \n",
        "    def boundary_condition(self, x, y):\n",
        "        return 0\n",
        "\n",
        "    @staticmethod\n",
        "    def f(x, y):\n",
        "        return 0"
      ],
      "execution_count": null,
      "outputs": []
    },
    {
      "cell_type": "code",
      "metadata": {
        "id": "Xj3GLJcwd8n0"
      },
      "source": [
        "def scheme_elliptic(setup):\n",
        "    size = (setup.x_num + 1) * (setup.y_num + 1)\n",
        "    A = lil_matrix((size, size))\n",
        "    hx = 1 / setup.dx ** 2\n",
        "    hy = 1 / setup.dy ** 2\n",
        "    r = -2 * (hx + hy)\n",
        "\n",
        "    d = np.zeros(size)\n",
        "    s = setup.y_num + 1\n",
        "    for i in range(0, setup.x_num + 1):\n",
        "        for j in range(0, setup.y_num + 1):\n",
        "            # TODO\n",
        "\n",
        "    A = csr_matrix(A)\n",
        "    w = sc.sparse.linalg.spsolve(A, d)\n",
        "    w = w.reshape(setup.x_num + 1, setup.y_num + 1)\n",
        "\n",
        "    return w"
      ],
      "execution_count": null,
      "outputs": []
    },
    {
      "cell_type": "code",
      "metadata": {
        "id": "Z-iBYkbPeB72"
      },
      "source": [
        "def plot_surface(values: float, setup):\n",
        "    fig = plt.figure()\n",
        "    ax = fig.gca(projection='3d')\n",
        "\n",
        "    # Prepare grid.\n",
        "    X = np.linspace(*setup.x_range, setup.x_num + 1)\n",
        "    Y = np.linspace(*setup.y_range, setup.y_num + 1)\n",
        "    X, Y = np.meshgrid(X, Y)\n",
        "\n",
        "    # Plot the surface.\n",
        "    surf = ax.plot_surface(X, Y, values, cmap=cm.coolwarm,\n",
        "                           linewidth=0, antialiased=False)\n",
        "\n",
        "    # Customize the z axis.\n",
        "    # ax.set_zlim(-1.01, 1.01)\n",
        "    ax.zaxis.set_major_locator(LinearLocator(10))\n",
        "    ax.zaxis.set_major_formatter(FormatStrFormatter('%.02f'))\n",
        "\n",
        "    # Add a color bar which maps values to colors.\n",
        "    fig.colorbar(surf, shrink=0.5, aspect=5)\n",
        "\n",
        "    plt.show()"
      ],
      "execution_count": null,
      "outputs": []
    },
    {
      "cell_type": "code",
      "metadata": {
        "id": "Mf98GjETd_oN"
      },
      "source": [
        "%%time\n",
        "# numerical solution\n",
        "setup_elliptic = SetupElliptic(0.005)\n",
        "numerical_elliptic = scheme_elliptic(setup_elliptic)"
      ],
      "execution_count": null,
      "outputs": []
    },
    {
      "cell_type": "code",
      "metadata": {
        "id": "w6kfztI9fmYJ"
      },
      "source": [
        "plot_surface(numerical_elliptic, setup_elliptic)"
      ],
      "execution_count": null,
      "outputs": []
    },
    {
      "cell_type": "markdown",
      "source": [
        "# Rozważyć warunki brzegowe (Dirichleta i Neumanna) różne od zera\n",
        "\n"
      ],
      "metadata": {
        "id": "te9q0l4dnxAF"
      }
    },
    {
      "cell_type": "code",
      "source": [
        ""
      ],
      "metadata": {
        "id": "_lVkKxp3n3_Z"
      },
      "execution_count": null,
      "outputs": []
    }
  ]
}